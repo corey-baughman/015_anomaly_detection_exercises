{
 "cells": [
  {
   "cell_type": "markdown",
   "id": "cadef50d-a494-406f-8e0b-0fbd885536fe",
   "metadata": {},
   "source": [
    "# Continuous Probabilistic Methods "
   ]
  },
  {
   "cell_type": "code",
   "execution_count": 1,
   "id": "0ae5ef3e-7eca-44a6-9b46-059de03084af",
   "metadata": {},
   "outputs": [],
   "source": [
    "import numpy as np\n",
    "import pandas as pd\n",
    "import matplotlib.pyplot as plt"
   ]
  },
  {
   "cell_type": "code",
   "execution_count": 2,
   "id": "5775568f-929c-4451-8f52-662124780e59",
   "metadata": {},
   "outputs": [],
   "source": [
    "def get_fences(df, col, k=1.5):\n",
    "    '''\n",
    "    This function takes in DataFrame name, a column name as a string\n",
    "    literal, and a k value. The function will calculate the inter-quartile\n",
    "    range(IQR). The inter-quartile range is the middle 50% of observations\n",
    "    bounded by Q1 at the bottom and Q3 at the top. It will then return a \n",
    "    lower bound that is k * IQR below Q1 and an upper bound that \n",
    "    is k * IQR above Q3.\n",
    "    \n",
    "    Arguments: df (a Pandas DataFrame), col (a Pandas Series), k (a multiplier)\n",
    "    Returns: lower_bound, upper_bound\n",
    "    '''\n",
    "    q1 = df[col].quantile(.25)\n",
    "    q3 = df[col].quantile(.75)\n",
    "    iqr = q3 - q1\n",
    "    lower_bound = q1 - (iqr * k)\n",
    "    upper_bound = q3 + (iqr * k)\n",
    "    \n",
    "    return lower_bound, upper_bound"
   ]
  },
  {
   "cell_type": "code",
   "execution_count": 3,
   "id": "b7108d12-8a78-4fff-b9dd-5ed242e8bb12",
   "metadata": {},
   "outputs": [
    {
     "data": {
      "text/html": [
       "<div>\n",
       "<style scoped>\n",
       "    .dataframe tbody tr th:only-of-type {\n",
       "        vertical-align: middle;\n",
       "    }\n",
       "\n",
       "    .dataframe tbody tr th {\n",
       "        vertical-align: top;\n",
       "    }\n",
       "\n",
       "    .dataframe thead th {\n",
       "        text-align: right;\n",
       "    }\n",
       "</style>\n",
       "<table border=\"1\" class=\"dataframe\">\n",
       "  <thead>\n",
       "    <tr style=\"text-align: right;\">\n",
       "      <th></th>\n",
       "      <th>Date</th>\n",
       "      <th>Day</th>\n",
       "      <th>Temperature</th>\n",
       "      <th>Rainfall</th>\n",
       "      <th>Flyers</th>\n",
       "      <th>Price</th>\n",
       "      <th>Sales</th>\n",
       "    </tr>\n",
       "  </thead>\n",
       "  <tbody>\n",
       "    <tr>\n",
       "      <th>0</th>\n",
       "      <td>1/1/17</td>\n",
       "      <td>Sunday</td>\n",
       "      <td>27.0</td>\n",
       "      <td>2.00</td>\n",
       "      <td>15</td>\n",
       "      <td>0.5</td>\n",
       "      <td>10</td>\n",
       "    </tr>\n",
       "    <tr>\n",
       "      <th>1</th>\n",
       "      <td>1/2/17</td>\n",
       "      <td>Monday</td>\n",
       "      <td>28.9</td>\n",
       "      <td>1.33</td>\n",
       "      <td>15</td>\n",
       "      <td>0.5</td>\n",
       "      <td>13</td>\n",
       "    </tr>\n",
       "    <tr>\n",
       "      <th>2</th>\n",
       "      <td>1/3/17</td>\n",
       "      <td>Tuesday</td>\n",
       "      <td>34.5</td>\n",
       "      <td>1.33</td>\n",
       "      <td>27</td>\n",
       "      <td>0.5</td>\n",
       "      <td>15</td>\n",
       "    </tr>\n",
       "    <tr>\n",
       "      <th>3</th>\n",
       "      <td>1/4/17</td>\n",
       "      <td>Wednesday</td>\n",
       "      <td>44.1</td>\n",
       "      <td>1.05</td>\n",
       "      <td>28</td>\n",
       "      <td>0.5</td>\n",
       "      <td>17</td>\n",
       "    </tr>\n",
       "    <tr>\n",
       "      <th>4</th>\n",
       "      <td>1/5/17</td>\n",
       "      <td>Thursday</td>\n",
       "      <td>42.4</td>\n",
       "      <td>1.00</td>\n",
       "      <td>33</td>\n",
       "      <td>0.5</td>\n",
       "      <td>18</td>\n",
       "    </tr>\n",
       "    <tr>\n",
       "      <th>...</th>\n",
       "      <td>...</td>\n",
       "      <td>...</td>\n",
       "      <td>...</td>\n",
       "      <td>...</td>\n",
       "      <td>...</td>\n",
       "      <td>...</td>\n",
       "      <td>...</td>\n",
       "    </tr>\n",
       "    <tr>\n",
       "      <th>360</th>\n",
       "      <td>12/27/17</td>\n",
       "      <td>Wednesday</td>\n",
       "      <td>42.7</td>\n",
       "      <td>1.00</td>\n",
       "      <td>33</td>\n",
       "      <td>0.5</td>\n",
       "      <td>19</td>\n",
       "    </tr>\n",
       "    <tr>\n",
       "      <th>361</th>\n",
       "      <td>12/28/17</td>\n",
       "      <td>Thursday</td>\n",
       "      <td>37.8</td>\n",
       "      <td>1.25</td>\n",
       "      <td>32</td>\n",
       "      <td>0.5</td>\n",
       "      <td>16</td>\n",
       "    </tr>\n",
       "    <tr>\n",
       "      <th>362</th>\n",
       "      <td>12/29/17</td>\n",
       "      <td>Friday</td>\n",
       "      <td>39.5</td>\n",
       "      <td>1.25</td>\n",
       "      <td>17</td>\n",
       "      <td>0.5</td>\n",
       "      <td>15</td>\n",
       "    </tr>\n",
       "    <tr>\n",
       "      <th>363</th>\n",
       "      <td>12/30/17</td>\n",
       "      <td>Saturday</td>\n",
       "      <td>30.9</td>\n",
       "      <td>1.43</td>\n",
       "      <td>22</td>\n",
       "      <td>0.5</td>\n",
       "      <td>13</td>\n",
       "    </tr>\n",
       "    <tr>\n",
       "      <th>364</th>\n",
       "      <td>12/31/17</td>\n",
       "      <td>Sunday</td>\n",
       "      <td>15.1</td>\n",
       "      <td>2.50</td>\n",
       "      <td>9</td>\n",
       "      <td>0.5</td>\n",
       "      <td>7</td>\n",
       "    </tr>\n",
       "  </tbody>\n",
       "</table>\n",
       "<p>365 rows × 7 columns</p>\n",
       "</div>"
      ],
      "text/plain": [
       "         Date        Day  Temperature  Rainfall  Flyers  Price  Sales\n",
       "0      1/1/17     Sunday         27.0      2.00      15    0.5     10\n",
       "1      1/2/17     Monday         28.9      1.33      15    0.5     13\n",
       "2      1/3/17    Tuesday         34.5      1.33      27    0.5     15\n",
       "3      1/4/17  Wednesday         44.1      1.05      28    0.5     17\n",
       "4      1/5/17   Thursday         42.4      1.00      33    0.5     18\n",
       "..        ...        ...          ...       ...     ...    ...    ...\n",
       "360  12/27/17  Wednesday         42.7      1.00      33    0.5     19\n",
       "361  12/28/17   Thursday         37.8      1.25      32    0.5     16\n",
       "362  12/29/17     Friday         39.5      1.25      17    0.5     15\n",
       "363  12/30/17   Saturday         30.9      1.43      22    0.5     13\n",
       "364  12/31/17     Sunday         15.1      2.50       9    0.5      7\n",
       "\n",
       "[365 rows x 7 columns]"
      ]
     },
     "execution_count": 3,
     "metadata": {},
     "output_type": "execute_result"
    }
   ],
   "source": [
    "df = pd.read_csv('lemonade.csv')\n",
    "df"
   ]
  },
  {
   "cell_type": "code",
   "execution_count": 4,
   "id": "b7f1457f-c18b-46f8-ac4e-4ed59ade5048",
   "metadata": {},
   "outputs": [],
   "source": [
    "# make names pythonic\n",
    "df.columns = df.columns.str.lower()"
   ]
  },
  {
   "cell_type": "code",
   "execution_count": 5,
   "id": "efc139d0-269a-436b-9a79-cae6803b06d6",
   "metadata": {},
   "outputs": [
    {
     "name": "stdout",
     "output_type": "stream",
     "text": [
      "<class 'pandas.core.frame.DataFrame'>\n",
      "RangeIndex: 365 entries, 0 to 364\n",
      "Data columns (total 7 columns):\n",
      " #   Column       Non-Null Count  Dtype  \n",
      "---  ------       --------------  -----  \n",
      " 0   date         365 non-null    object \n",
      " 1   day          365 non-null    object \n",
      " 2   temperature  365 non-null    float64\n",
      " 3   rainfall     365 non-null    float64\n",
      " 4   flyers       365 non-null    int64  \n",
      " 5   price        365 non-null    float64\n",
      " 6   sales        365 non-null    int64  \n",
      "dtypes: float64(3), int64(2), object(2)\n",
      "memory usage: 20.1+ KB\n"
     ]
    }
   ],
   "source": [
    "df.info()"
   ]
  },
  {
   "cell_type": "code",
   "execution_count": 6,
   "id": "64788696-4cd5-4842-85de-a37a6aba709d",
   "metadata": {},
   "outputs": [],
   "source": [
    "# num_cols = [col for col in df if pd.api.types.is_numeric_dtype(df[col])]\n",
    "# num_cols"
   ]
  },
  {
   "cell_type": "code",
   "execution_count": 7,
   "id": "1141667e-0a03-4927-bd5e-ce2c68b54e0b",
   "metadata": {},
   "outputs": [],
   "source": [
    "def make_fence_dict(df, k=1.5):\n",
    "    '''\n",
    "    This function uses the get_fences() function to create a dictionary\n",
    "    of fences for numeric columns in a DataFrame.\n",
    "    \n",
    "    Arguments: DataFrame\n",
    "    Returns: Dictionary of fence boundaries for each numeric column.\n",
    "    '''\n",
    "    my_fences = {}\n",
    "    num_cols = [col for col in df if pd.api.types.is_numeric_dtype(df[col])]\n",
    "    for col in num_cols:\n",
    "        my_fences[col] = get_fences(df, col, k)\n",
    "        \n",
    "    return my_fences"
   ]
  },
  {
   "cell_type": "code",
   "execution_count": 8,
   "id": "49c33efb-4018-4e44-a0d7-a4b29380dd46",
   "metadata": {},
   "outputs": [],
   "source": [
    "# my_fences = make_fence_dict(df)\n",
    "# my_fences"
   ]
  },
  {
   "cell_type": "markdown",
   "id": "9207096c-8db5-41b4-8a29-1d9cb274f188",
   "metadata": {},
   "source": [
    "### 1. Using lemonade.csv dataset and focusing on continuous variables:\n",
    "\n"
   ]
  },
  {
   "cell_type": "markdown",
   "id": "e32d2251-0d1b-48b5-99d3-ca24a20fcc3d",
   "metadata": {},
   "source": [
    "#### Use the IQR Range Rule and the upper and lower bounds to identify the lower outliers of each column of lemonade.csv, using the multiplier of 1.5. Do these lower outliers make sense? Which outliers should be kept?\n",
    " "
   ]
  },
  {
   "cell_type": "code",
   "execution_count": 9,
   "id": "90c19bd0-3998-4a3d-9c7a-09c5f70737d5",
   "metadata": {},
   "outputs": [],
   "source": [
    "def get_upper_outliers(df, k=1.5):\n",
    "    '''\n",
    "    Function prints upper outliers for each numeric column.\n",
    "    \n",
    "    Arguments:  df: A pandas dataframe.\n",
    "                k: multiplier of IQR for fence.\n",
    "        \n",
    "    Returns: Nothing. Prints upper outlier rows by feature.\n",
    "    '''\n",
    "    # filter columns to numeric dtypes only\n",
    "    num_cols = [col for col in df if pd.api.types.is_numeric_dtype(df[col])]\n",
    "    my_fences = make_fence_dict(df, k)\n",
    "    for col in num_cols:\n",
    "        \n",
    "        print(f'For feature {col}')\n",
    "        print(df[df[col] > my_fences[col][1]])\n",
    "        print('========================')\n",
    "    \n",
    "    \n",
    "def get_lower_outliers(df, k=1.5):\n",
    "    '''\n",
    "    Function prints upper outliers for each numeric column.\n",
    "    \n",
    "    Arguments:  df: A pandas dataframe.\n",
    "                k: multiplier of IQR for fence.\n",
    "                \n",
    "    Returns: Nothing. Prints lower outlier rows by feature.\n",
    "    '''\n",
    "    # filter columns to numeric dtypes only\n",
    "    num_cols = [col for col in df if pd.api.types.is_numeric_dtype(df[col])]\n",
    "    my_fences = make_fence_dict(df, k)\n",
    "    for col in num_cols:\n",
    "        print(f'For feature {col}')\n",
    "        print(df[df[col] < my_fences[col][0]])\n",
    "        print('========================')"
   ]
  },
  {
   "cell_type": "code",
   "execution_count": 10,
   "id": "a7917813-3101-4712-b8eb-fc22caea10fb",
   "metadata": {},
   "outputs": [
    {
     "name": "stdout",
     "output_type": "stream",
     "text": [
      "For feature temperature\n",
      "         date     day  temperature  rainfall  flyers  price  sales\n",
      "364  12/31/17  Sunday         15.1       2.5       9    0.5      7\n",
      "========================\n",
      "For feature rainfall\n",
      "Empty DataFrame\n",
      "Columns: [date, day, temperature, rainfall, flyers, price, sales]\n",
      "Index: []\n",
      "========================\n",
      "For feature flyers\n",
      "         date      day  temperature  rainfall  flyers  price  sales\n",
      "324  11/21/17  Tuesday         47.0      0.95     -38    0.5     20\n",
      "========================\n",
      "For feature price\n",
      "Empty DataFrame\n",
      "Columns: [date, day, temperature, rainfall, flyers, price, sales]\n",
      "Index: []\n",
      "========================\n",
      "For feature sales\n",
      "Empty DataFrame\n",
      "Columns: [date, day, temperature, rainfall, flyers, price, sales]\n",
      "Index: []\n",
      "========================\n"
     ]
    }
   ],
   "source": [
    "get_lower_outliers(df, k=1.5)"
   ]
  },
  {
   "cell_type": "markdown",
   "id": "7bc0a61c-1555-45af-b7b6-a6ad073b7f08",
   "metadata": {},
   "source": [
    "##### Lower Bound Outliers k=1.5:\n",
    "\n",
    "- **Temp:** 12/31/17 is just outside range on rainy day with low sales. Looks like real data. Should keep.\n",
    "- **Rainfall:** none\n",
    "- **Flyers:** you can't pass out -38 flyers. Going to drop or impute there.\n",
    "- **Price:** none\n",
    "- **Sales:** none\n"
   ]
  },
  {
   "cell_type": "markdown",
   "id": "545a851b-cb26-4ab8-a42f-ddfbdf5bb054",
   "metadata": {},
   "source": [
    "#### Use the IQR Range Rule and the upper and upper bounds to identify the upper outliers of each column of lemonade.csv, using the multiplier of 1.5. Do these upper outliers make sense? Which outliers should be kept?\n"
   ]
  },
  {
   "cell_type": "code",
   "execution_count": 11,
   "id": "4c051ee2-579f-429d-ac10-11653414548c",
   "metadata": {},
   "outputs": [
    {
     "name": "stdout",
     "output_type": "stream",
     "text": [
      "For feature temperature\n",
      "       date       day  temperature  rainfall  flyers  price  sales\n",
      "41  2/11/17  Saturday        212.0      0.91      35    0.5     21\n",
      "========================\n",
      "For feature rainfall\n",
      "         date        day  temperature  rainfall  flyers  price  sales\n",
      "0      1/1/17     Sunday         27.0      2.00      15    0.5     10\n",
      "1      1/2/17     Monday         28.9      1.33      15    0.5     13\n",
      "2      1/3/17    Tuesday         34.5      1.33      27    0.5     15\n",
      "5      1/6/17     Friday         25.3      1.54      23    0.5     11\n",
      "6      1/7/17   Saturday         32.9      1.54      19    0.5     13\n",
      "10    1/11/17  Wednesday         32.6      1.54      23    0.5     12\n",
      "11    1/12/17   Thursday         38.2      1.33      16    0.5     14\n",
      "12    1/13/17     Friday         37.5      1.33      19    0.5     15\n",
      "15    1/16/17     Monday         30.6      1.67      24    0.5     12\n",
      "16    1/17/17    Tuesday         32.2      1.43      26    0.5     14\n",
      "19    1/20/17     Friday         31.6      1.43      20    0.5     12\n",
      "23    1/24/17    Tuesday         28.6      1.54      20    0.5     12\n",
      "27    1/28/17   Saturday         34.9      1.33      15    0.5     13\n",
      "28    1/29/17     Sunday         35.2      1.33      27    0.5     14\n",
      "337   12/4/17     Monday         34.9      1.54      16    0.5     13\n",
      "338   12/5/17    Tuesday         22.0      1.82      11    0.5     10\n",
      "342   12/9/17   Saturday         31.2      1.43      19    0.5     14\n",
      "343  12/10/17     Sunday         31.3      1.82      15    0.5     11\n",
      "345  12/12/17    Tuesday         33.5      1.33      22    0.5     15\n",
      "346  12/13/17  Wednesday         32.2      1.43      26    0.5     14\n",
      "347  12/14/17   Thursday         31.9      1.54      24    0.5     13\n",
      "350  12/17/17     Sunday         32.2      1.33      16    0.5     14\n",
      "351  12/18/17     Monday         30.9      1.43      27    0.5     13\n",
      "354  12/21/17   Thursday         40.5      1.33      23    0.5     15\n",
      "355  12/22/17     Friday         30.9      1.54      17    0.5     13\n",
      "359  12/26/17    Tuesday         28.9      1.43      23    0.5     13\n",
      "363  12/30/17   Saturday         30.9      1.43      22    0.5     13\n",
      "364  12/31/17     Sunday         15.1      2.50       9    0.5      7\n",
      "========================\n",
      "For feature flyers\n",
      "        date     day  temperature  rainfall  flyers  price  sales\n",
      "166  6/16/17  Friday         99.3      0.47      77    0.5     41\n",
      "194  7/14/17  Friday         92.0      0.50      80    0.5     40\n",
      "========================\n",
      "For feature price\n",
      "Empty DataFrame\n",
      "Columns: [date, day, temperature, rainfall, flyers, price, sales]\n",
      "Index: []\n",
      "========================\n",
      "For feature sales\n",
      "       date       day  temperature  rainfall  flyers  price  sales\n",
      "181  7/1/17  Saturday        102.9      0.47      59    0.5    143\n",
      "182  7/2/17    Sunday         93.4      0.51      68    0.5    158\n",
      "183  7/3/17    Monday         81.5      0.54      68    0.5    235\n",
      "184  7/4/17   Tuesday         84.2      0.59      49    0.5    534\n",
      "========================\n"
     ]
    }
   ],
   "source": [
    "get_upper_outliers(df, k=1.5)"
   ]
  },
  {
   "cell_type": "markdown",
   "id": "5aa84dfb-eb0c-4796-b4cc-c9331d9da25a",
   "metadata": {},
   "source": [
    "##### Upper Bound Outliers (k=1.5):\n",
    "\n",
    "- **Temp:** temp of 212 should be dropped, obviously anomalous and not good for lemonade demand prediction.\n",
    "- **Rainfall:** none of the rainfall outliers look particularly out of line and I will keep.\n",
    "- **Flyers:** Outliers are just above fence and on hot summer days. Will keep.\n",
    "- **Price:** none\n",
    "- **Sales:** the sales of 534 seems anomalous, but it is on July 4th so could be a big event or something. Will keep.\n",
    "\n"
   ]
  },
  {
   "cell_type": "markdown",
   "id": "cf7b4897-20f6-4478-91cd-1804fe50ba3c",
   "metadata": {},
   "source": [
    "#### Using the multiplier of 3, IQR Range Rule, and the lower bounds, identify the outliers below the lower bound in each colum of lemonade.csv. Do these lower outliers make sense? Which outliers should be kept?\n"
   ]
  },
  {
   "cell_type": "code",
   "execution_count": 12,
   "id": "174c53a0-a335-4599-ab1d-dfbdc67fae97",
   "metadata": {},
   "outputs": [
    {
     "name": "stdout",
     "output_type": "stream",
     "text": [
      "For feature temperature\n",
      "Empty DataFrame\n",
      "Columns: [date, day, temperature, rainfall, flyers, price, sales]\n",
      "Index: []\n",
      "========================\n",
      "For feature rainfall\n",
      "Empty DataFrame\n",
      "Columns: [date, day, temperature, rainfall, flyers, price, sales]\n",
      "Index: []\n",
      "========================\n",
      "For feature flyers\n",
      "         date      day  temperature  rainfall  flyers  price  sales\n",
      "324  11/21/17  Tuesday         47.0      0.95     -38    0.5     20\n",
      "========================\n",
      "For feature price\n",
      "Empty DataFrame\n",
      "Columns: [date, day, temperature, rainfall, flyers, price, sales]\n",
      "Index: []\n",
      "========================\n",
      "For feature sales\n",
      "Empty DataFrame\n",
      "Columns: [date, day, temperature, rainfall, flyers, price, sales]\n",
      "Index: []\n",
      "========================\n"
     ]
    }
   ],
   "source": [
    "get_lower_outliers(df, k=3)"
   ]
  },
  {
   "cell_type": "markdown",
   "id": "6feb92a9-01bb-428c-9d00-4c045d369c59",
   "metadata": {},
   "source": [
    "##### Lower Bound Outliers k=3:\n",
    "\n",
    "- **Temp:** none\n",
    "- **Rainfall:** none\n",
    "- **Flyers:** you still can't pass out -38 flyers. Going to drop or impute there.\n",
    "- **Price:** none\n",
    "- **Sales:** none\n"
   ]
  },
  {
   "cell_type": "markdown",
   "id": "a24c8f98-4c0d-4833-a390-173d6c1f6638",
   "metadata": {},
   "source": [
    "#### Using the multiplier of 3, IQR Range Rule, and the upper bounds, identify the outliers above the upper_bound in each colum of lemonade.csv. Do these upper outliers make sense? Which outliers should be kept?\n"
   ]
  },
  {
   "cell_type": "code",
   "execution_count": 13,
   "id": "a69ee0b8-bdfc-4376-8ac2-009dc4a08296",
   "metadata": {},
   "outputs": [
    {
     "name": "stdout",
     "output_type": "stream",
     "text": [
      "For feature temperature\n",
      "       date       day  temperature  rainfall  flyers  price  sales\n",
      "41  2/11/17  Saturday        212.0      0.91      35    0.5     21\n",
      "========================\n",
      "For feature rainfall\n",
      "         date      day  temperature  rainfall  flyers  price  sales\n",
      "0      1/1/17   Sunday         27.0      2.00      15    0.5     10\n",
      "338   12/5/17  Tuesday         22.0      1.82      11    0.5     10\n",
      "343  12/10/17   Sunday         31.3      1.82      15    0.5     11\n",
      "364  12/31/17   Sunday         15.1      2.50       9    0.5      7\n",
      "========================\n",
      "For feature flyers\n",
      "Empty DataFrame\n",
      "Columns: [date, day, temperature, rainfall, flyers, price, sales]\n",
      "Index: []\n",
      "========================\n",
      "For feature price\n",
      "Empty DataFrame\n",
      "Columns: [date, day, temperature, rainfall, flyers, price, sales]\n",
      "Index: []\n",
      "========================\n",
      "For feature sales\n",
      "       date       day  temperature  rainfall  flyers  price  sales\n",
      "181  7/1/17  Saturday        102.9      0.47      59    0.5    143\n",
      "182  7/2/17    Sunday         93.4      0.51      68    0.5    158\n",
      "183  7/3/17    Monday         81.5      0.54      68    0.5    235\n",
      "184  7/4/17   Tuesday         84.2      0.59      49    0.5    534\n",
      "========================\n"
     ]
    }
   ],
   "source": [
    "get_upper_outliers(df, k=3)"
   ]
  },
  {
   "cell_type": "markdown",
   "id": "801a7888-c234-4cac-8dea-324af4b25313",
   "metadata": {},
   "source": [
    "##### Upper Bound Outliers k=3:\n",
    "\n",
    "- **Temp:** temp of 212 should still be dropped, obviously anomalous and not good for lemonade demand prediction.\n",
    "- **Rainfall:** the four days of rainfall outliers still look plausible and I will keep.\n",
    "- **Flyers:** none\n",
    "- **Price:** none\n",
    "- **Sales:** All of the high sales are around July 4th so could be a big event or something. Will keep.\n",
    "\n"
   ]
  },
  {
   "cell_type": "markdown",
   "id": "4292a861-66d6-4a8a-add3-4812b6a759d9",
   "metadata": {},
   "source": [
    "### 2. Identify if any columns in lemonade.csv are normally distributed. For normally distributed columns:\n",
    "\n"
   ]
  },
  {
   "cell_type": "markdown",
   "id": "6b6ed57f-ea32-455b-8da8-241f751e7969",
   "metadata": {},
   "source": [
    "#### Use a 2 sigma decision rule to isolate the outliers.\n",
    "\n"
   ]
  },
  {
   "cell_type": "code",
   "execution_count": 14,
   "id": "17861ce8-70c0-4469-af80-e5caea0d68cb",
   "metadata": {},
   "outputs": [
    {
     "data": {
      "image/png": "[encoded data removed]",
      "text/plain": [
       "<Figure size 640x480 with 6 Axes>"
      ]
     },
     "metadata": {},
     "output_type": "display_data"
    }
   ],
   "source": [
    "df.hist()\n",
    "plt.show()"
   ]
  },
  {
   "cell_type": "markdown",
   "id": "b80069ca-ce3d-4a86-a603-f15eef9e522c",
   "metadata": {},
   "source": [
    "- temperature and sales are relatively normal. Rainfall is somewhat normal but has a right skew."
   ]
  },
  {
   "cell_type": "markdown",
   "id": "a987cc1b-4d25-4be0-85d6-2f90daaccbec",
   "metadata": {},
   "source": [
    "#### Use a 2 sigma decision rule to isolate the outliers. Do these make sense? Should certain outliers be kept or removed?\n",
    "\n"
   ]
  },
  {
   "cell_type": "code",
   "execution_count": 15,
   "id": "3ce457a7-8fb5-4962-b158-f4d836945722",
   "metadata": {},
   "outputs": [
    {
     "name": "stdout",
     "output_type": "stream",
     "text": [
      " For Column temperature\n",
      "                  41       166      176       181      190      198       202  \\\n",
      "date          2/11/17  6/16/17  6/26/17    7/1/17  7/10/17  7/18/17   7/22/17   \n",
      "day          Saturday   Friday   Monday  Saturday   Monday  Tuesday  Saturday   \n",
      "temperature     212.0     99.3    102.6     102.9     98.0     99.3      99.6   \n",
      "rainfall         0.91     0.47     0.47      0.47     0.49     0.47      0.47   \n",
      "flyers             35       77       60        59       66       76        49   \n",
      "price             0.5      0.5      0.5       0.5      0.5      0.5       0.5   \n",
      "sales              21       41       42       143       40       41        42   \n",
      "\n",
      "                  207      338       364  \n",
      "date          7/27/17  12/5/17  12/31/17  \n",
      "day          Thursday  Tuesday    Sunday  \n",
      "temperature      97.9     22.0      15.1  \n",
      "rainfall         0.47     1.82       2.5  \n",
      "flyers             74       11         9  \n",
      "price             0.5      0.5       0.5  \n",
      "sales              43       10         7  \n",
      "=============\n",
      " For Column sales\n",
      "                  181     182     183      184\n",
      "date           7/1/17  7/2/17  7/3/17   7/4/17\n",
      "day          Saturday  Sunday  Monday  Tuesday\n",
      "temperature     102.9    93.4    81.5     84.2\n",
      "rainfall         0.47    0.51    0.54     0.59\n",
      "flyers             59      68      68       49\n",
      "price             0.5     0.5     0.5      0.5\n",
      "sales             143     158     235      534\n",
      "=============\n"
     ]
    }
   ],
   "source": [
    "# normalcy of underlying distribution is required to \n",
    "# remove outliers with the sigma method so had to check\n",
    "# features for normalcy. In this case we have two normal\n",
    "# features I will put in list norm_cols\n",
    "norm_cols = ['temperature', 'sales']\n",
    "\n",
    "# z is (a given feature - the mean of that feature) /\n",
    "# the standard deviation of that feature. It represents\n",
    "# the number of standard deviations that observation is\n",
    "# away from the mean for the feature.\n",
    "\n",
    "\n",
    "# two-sigma is defining the fence as two standard deviations\n",
    "# away from the mean or z > 2.\n",
    "# getting z > 2 for multiple columns\n",
    "for col in norm_cols:\n",
    "    print(f' For Column {col}')\n",
    "    print(df[(((\n",
    "    df[col] - df[col].mean()\n",
    ")/ df[col].std()) > 2) | (((\n",
    "    df[col] - df[col].mean()\n",
    ")/ df[col].std()) < -2)].T)\n",
    "    print('=============')"
   ]
  },
  {
   "cell_type": "markdown",
   "id": "ee5f989b-b6a8-4238-a791-8a9714896c7e",
   "metadata": {},
   "source": [
    "- temp of 212 should be removed. Makes sense"
   ]
  },
  {
   "cell_type": "code",
   "execution_count": 16,
   "id": "9b6ef44f-2686-43d2-a4c6-9d94ea7fae69",
   "metadata": {},
   "outputs": [
    {
     "name": "stdout",
     "output_type": "stream",
     "text": [
      " For Column temperature\n",
      "                   41\n",
      "date          2/11/17\n",
      "day          Saturday\n",
      "temperature     212.0\n",
      "rainfall         0.91\n",
      "flyers             35\n",
      "price             0.5\n",
      "sales              21\n",
      "=============\n",
      " For Column sales\n",
      "                  181     182     183      184\n",
      "date           7/1/17  7/2/17  7/3/17   7/4/17\n",
      "day          Saturday  Sunday  Monday  Tuesday\n",
      "temperature     102.9    93.4    81.5     84.2\n",
      "rainfall         0.47    0.51    0.54     0.59\n",
      "flyers             59      68      68       49\n",
      "price             0.5     0.5     0.5      0.5\n",
      "sales             143     158     235      534\n",
      "=============\n"
     ]
    }
   ],
   "source": [
    "# getting z > 3 for multiple columns\n",
    "for col in norm_cols:\n",
    "    print(f' For Column {col}')\n",
    "    print(df[(((\n",
    "    df[col] - df[col].mean()\n",
    ")/ df[col].std()) > 3) | (((\n",
    "    df[col] - df[col].mean()\n",
    ")/ df[col].std()) < -3)].T)\n",
    "    print('=============')"
   ]
  },
  {
   "cell_type": "markdown",
   "id": "705911be-74f6-41a0-be1c-8a1a6e99181c",
   "metadata": {},
   "source": [
    "- temp of 212 should be removed. Makes sense."
   ]
  },
  {
   "cell_type": "code",
   "execution_count": 17,
   "id": "73fac83b-4cba-4f7c-93ca-73ee9554697e",
   "metadata": {},
   "outputs": [
    {
     "data": {
      "text/plain": [
       "['temperature', 'rainfall', 'flyers', 'price', 'sales']"
      ]
     },
     "execution_count": 17,
     "metadata": {},
     "output_type": "execute_result"
    }
   ],
   "source": [
    "num_cols = [col for col in df if pd.api.types.is_numeric_dtype(df[col])]\n",
    "num_cols"
   ]
  },
  {
   "cell_type": "code",
   "execution_count": 18,
   "id": "07bdc796-f7ca-4003-b23b-b45d5bf79940",
   "metadata": {},
   "outputs": [
    {
     "data": {
      "text/plain": [
       "['temperature', 'rainfall', 'flyers', 'price', 'sales']"
      ]
     },
     "execution_count": 18,
     "metadata": {},
     "output_type": "execute_result"
    }
   ],
   "source": [
    "num_cols2 = [col for col in df if df[col].dtype != 'O']\n",
    "num_cols2"
   ]
  },
  {
   "cell_type": "code",
   "execution_count": 19,
   "id": "559e5ff8-ee00-4155-877a-f0b98f5bb951",
   "metadata": {},
   "outputs": [
    {
     "data": {
      "text/plain": [
       "301.48"
      ]
     },
     "execution_count": 19,
     "metadata": {},
     "output_type": "execute_result"
    }
   ],
   "source": [
    "df.rainfall.sum()"
   ]
  },
  {
   "cell_type": "code",
   "execution_count": 20,
   "id": "77cd3117-2c54-4b28-be0c-5126dc4d1e3b",
   "metadata": {},
   "outputs": [
    {
     "data": {
      "text/plain": [
       "61.22465753424662"
      ]
     },
     "execution_count": 20,
     "metadata": {},
     "output_type": "execute_result"
    }
   ],
   "source": [
    "df.temperature.mean()"
   ]
  },
  {
   "cell_type": "code",
   "execution_count": 21,
   "id": "c4842896-43ea-4bcd-a5ec-571160cb439c",
   "metadata": {},
   "outputs": [
    {
     "data": {
      "text/plain": [
       "(365, 7)"
      ]
     },
     "execution_count": 21,
     "metadata": {},
     "output_type": "execute_result"
    }
   ],
   "source": [
    "df.shape"
   ]
  },
  {
   "cell_type": "code",
   "execution_count": 22,
   "id": "b05efa2f-f910-4dc8-955e-de9000b3c933",
   "metadata": {},
   "outputs": [],
   "source": [
    "df.date = pd.to_datetime(df['date'])"
   ]
  },
  {
   "cell_type": "code",
   "execution_count": 23,
   "id": "fc479db5-73d1-4614-bb0a-c4f89ed2bc9b",
   "metadata": {},
   "outputs": [],
   "source": [
    "df = df.set_index('date').reset_index()"
   ]
  },
  {
   "cell_type": "code",
   "execution_count": 25,
   "id": "cacb5d47-10d0-4b58-ae8f-d8c4d049722a",
   "metadata": {},
   "outputs": [
    {
     "data": {
      "text/plain": [
       "<AxesSubplot:xlabel='date'>"
      ]
     },
     "execution_count": 25,
     "metadata": {},
     "output_type": "execute_result"
    },
    {
     "data": {
      "image/png": "[encoded data removed]",
      "text/plain": [
       "<Figure size 640x480 with 1 Axes>"
      ]
     },
     "metadata": {},
     "output_type": "display_data"
    }
   ],
   "source": [
    "df.plot(y='rainfall', x='date')"
   ]
  },
  {
   "cell_type": "code",
   "execution_count": 27,
   "id": "810db6a8-21e4-4e10-bb10-8335dcadc339",
   "metadata": {},
   "outputs": [
    {
     "data": {
      "text/plain": [
       "<AxesSubplot:xlabel='date'>"
      ]
     },
     "execution_count": 27,
     "metadata": {},
     "output_type": "execute_result"
    },
    {
     "data": {
      "image/png": "[encoded data removed]",
      "text/plain": [
       "<Figure size 640x480 with 1 Axes>"
      ]
     },
     "metadata": {},
     "output_type": "display_data"
    }
   ],
   "source": [
    "df.plot(x='date', y='temperature')"
   ]
  },
  {
   "cell_type": "code",
   "execution_count": null,
   "id": "b682846e-34ed-4bfe-ba15-f0742fa088f7",
   "metadata": {},
   "outputs": [],
   "source": []
  }
 ],
 "metadata": {
  "kernelspec": {
   "display_name": "Python 3 (ipykernel)",
   "language": "python",
   "name": "python3"
  },
  "language_info": {
   "codemirror_mode": {
    "name": "ipython",
    "version": 3
   },
   "file_extension": ".py",
   "mimetype": "text/x-python",
   "name": "python",
   "nbconvert_exporter": "python",
   "pygments_lexer": "ipython3",
   "version": "3.9.13"
  }
 },
 "nbformat": 4,
 "nbformat_minor": 5
}
