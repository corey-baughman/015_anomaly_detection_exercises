{
 "cells": [
  {
   "cell_type": "code",
   "execution_count": 2,
   "id": "bfd30206-3843-49a8-9a2d-83127233fc6b",
   "metadata": {},
   "outputs": [],
   "source": [
    "url = 'https://gist.githubusercontent.com/ryanorsinger/19bc7eccd6279661bd13307026628ace/raw/e4b5d6787015a4782f96cad6d1d62a8bdbac54c7/lemonade.csv'"
   ]
  },
  {
   "cell_type": "code",
   "execution_count": 6,
   "id": "522dc590-ca10-4fee-b11b-d6461e3a861c",
   "metadata": {},
   "outputs": [],
   "source": [
    "import pandas as pd\n",
    "import numpy as np\n",
    "import matplotlib.pyplot as plt\n",
    "import seaborn as sns"
   ]
  },
  {
   "cell_type": "markdown",
   "id": "3e8b267f-6b83-47bb-8c89-b0b7d931123d",
   "metadata": {},
   "source": [
    "Exercises"
   ]
  },
  {
   "cell_type": "code",
   "execution_count": 5,
   "id": "6245dfde-65be-470d-acd1-cdb816dd2cda",
   "metadata": {},
   "outputs": [],
   "source": [
    "df = pd.read_csv(url)"
   ]
  },
  {
   "cell_type": "code",
   "execution_count": 7,
   "id": "24ce4607-f3f9-4fdb-a37b-7392ecfb6cca",
   "metadata": {},
   "outputs": [
    {
     "data": {
      "text/html": [
       "<div>\n",
       "<style scoped>\n",
       "    .dataframe tbody tr th:only-of-type {\n",
       "        vertical-align: middle;\n",
       "    }\n",
       "\n",
       "    .dataframe tbody tr th {\n",
       "        vertical-align: top;\n",
       "    }\n",
       "\n",
       "    .dataframe thead th {\n",
       "        text-align: right;\n",
       "    }\n",
       "</style>\n",
       "<table border=\"1\" class=\"dataframe\">\n",
       "  <thead>\n",
       "    <tr style=\"text-align: right;\">\n",
       "      <th></th>\n",
       "      <th>Date</th>\n",
       "      <th>Day</th>\n",
       "      <th>Temperature</th>\n",
       "      <th>Rainfall</th>\n",
       "      <th>Flyers</th>\n",
       "      <th>Price</th>\n",
       "      <th>Sales</th>\n",
       "    </tr>\n",
       "  </thead>\n",
       "  <tbody>\n",
       "    <tr>\n",
       "      <th>0</th>\n",
       "      <td>1/1/17</td>\n",
       "      <td>Sunday</td>\n",
       "      <td>27.0</td>\n",
       "      <td>2.00</td>\n",
       "      <td>15</td>\n",
       "      <td>0.5</td>\n",
       "      <td>10</td>\n",
       "    </tr>\n",
       "    <tr>\n",
       "      <th>1</th>\n",
       "      <td>1/2/17</td>\n",
       "      <td>Monday</td>\n",
       "      <td>28.9</td>\n",
       "      <td>1.33</td>\n",
       "      <td>15</td>\n",
       "      <td>0.5</td>\n",
       "      <td>13</td>\n",
       "    </tr>\n",
       "    <tr>\n",
       "      <th>2</th>\n",
       "      <td>1/3/17</td>\n",
       "      <td>Tuesday</td>\n",
       "      <td>34.5</td>\n",
       "      <td>1.33</td>\n",
       "      <td>27</td>\n",
       "      <td>0.5</td>\n",
       "      <td>15</td>\n",
       "    </tr>\n",
       "    <tr>\n",
       "      <th>3</th>\n",
       "      <td>1/4/17</td>\n",
       "      <td>Wednesday</td>\n",
       "      <td>44.1</td>\n",
       "      <td>1.05</td>\n",
       "      <td>28</td>\n",
       "      <td>0.5</td>\n",
       "      <td>17</td>\n",
       "    </tr>\n",
       "    <tr>\n",
       "      <th>4</th>\n",
       "      <td>1/5/17</td>\n",
       "      <td>Thursday</td>\n",
       "      <td>42.4</td>\n",
       "      <td>1.00</td>\n",
       "      <td>33</td>\n",
       "      <td>0.5</td>\n",
       "      <td>18</td>\n",
       "    </tr>\n",
       "  </tbody>\n",
       "</table>\n",
       "</div>"
      ],
      "text/plain": [
       "     Date        Day  Temperature  Rainfall  Flyers  Price  Sales\n",
       "0  1/1/17     Sunday         27.0      2.00      15    0.5     10\n",
       "1  1/2/17     Monday         28.9      1.33      15    0.5     13\n",
       "2  1/3/17    Tuesday         34.5      1.33      27    0.5     15\n",
       "3  1/4/17  Wednesday         44.1      1.05      28    0.5     17\n",
       "4  1/5/17   Thursday         42.4      1.00      33    0.5     18"
      ]
     },
     "execution_count": 7,
     "metadata": {},
     "output_type": "execute_result"
    }
   ],
   "source": [
    "df.head()"
   ]
  },
  {
   "cell_type": "code",
   "execution_count": 8,
   "id": "85eabefc-a6fb-4e7b-9541-827ad15f554a",
   "metadata": {},
   "outputs": [
    {
     "name": "stderr",
     "output_type": "stream",
     "text": [
      "/var/folders/64/db_n95vn5jbbj1ysbq4cwd_r0000gn/T/ipykernel_3599/3246387676.py:3: UserWarning: Could not infer format, so each element will be parsed individually, falling back to `dateutil`. To ensure parsing is consistent and as-expected, please specify a format.\n",
      "  df['Date'] = pd.to_datetime(df.Date)\n"
     ]
    }
   ],
   "source": [
    "# It looks like every row is a date, so \n",
    "# let's treat it like a datetime index\n",
    "df['Date'] = pd.to_datetime(df.Date)"
   ]
  },
  {
   "cell_type": "code",
   "execution_count": 14,
   "id": "cb501cb3-1af2-46a6-aca4-64e030306559",
   "metadata": {},
   "outputs": [],
   "source": [
    "# note on this warning -- pandas is telling us its not sure if we\n",
    "# got what we wanted out of its interpretation of the formatting.\n",
    "# robust fix: feed it date formatting when we pass pd.to_datetime\n",
    "# easy fix: glance and notice that it did the thing we wanted to.\n",
    "df = df.set_index('Date')"
   ]
  },
  {
   "cell_type": "code",
   "execution_count": 16,
   "id": "2a3247a5-7b3c-4088-9701-7dd35d17dfe8",
   "metadata": {},
   "outputs": [],
   "source": [
    "# let's add a month feature now that we have a datetime index\n",
    "df['Month'] = df.index.month_name()"
   ]
  },
  {
   "cell_type": "code",
   "execution_count": 18,
   "id": "69e321c9-e934-49e2-93f1-1e396e7441d5",
   "metadata": {},
   "outputs": [
    {
     "name": "stdout",
     "output_type": "stream",
     "text": [
      "<class 'pandas.core.frame.DataFrame'>\n",
      "DatetimeIndex: 365 entries, 2017-01-01 to 2017-12-31\n",
      "Data columns (total 7 columns):\n",
      " #   Column       Non-Null Count  Dtype  \n",
      "---  ------       --------------  -----  \n",
      " 0   Day          365 non-null    object \n",
      " 1   Temperature  365 non-null    float64\n",
      " 2   Rainfall     365 non-null    float64\n",
      " 3   Flyers       365 non-null    int64  \n",
      " 4   Price        365 non-null    float64\n",
      " 5   Sales        365 non-null    int64  \n",
      " 6   Month        365 non-null    object \n",
      "dtypes: float64(3), int64(2), object(2)\n",
      "memory usage: 22.8+ KB\n"
     ]
    }
   ],
   "source": [
    "df.info()"
   ]
  },
  {
   "cell_type": "code",
   "execution_count": null,
   "id": "892f2c6c-bb5b-40e3-8803-317154e9bb33",
   "metadata": {},
   "outputs": [],
   "source": [
    "# narrow down my results into just numerical columns:"
   ]
  },
  {
   "cell_type": "code",
   "execution_count": 24,
   "id": "c1a7af01-0445-407c-aae3-08fd0081aa6f",
   "metadata": {},
   "outputs": [],
   "source": [
    "# pd.DataFrame.select_dtypes?"
   ]
  },
  {
   "cell_type": "code",
   "execution_count": 25,
   "id": "1d95edc0-a837-4d3d-b7bd-040556f9df66",
   "metadata": {},
   "outputs": [],
   "source": [
    "# initialize two empty lists,\n",
    "# add numerical ones to the num_cols,\n",
    "# toss anything else to cat_cols\n",
    "num_cols, cat_cols = [], []\n",
    "for col in df.columns:\n",
    "    if np.issubdtype(df[col], np.number):\n",
    "        num_cols.append(col)\n",
    "    else:\n",
    "        cat_cols.append(col)"
   ]
  },
  {
   "cell_type": "code",
   "execution_count": 26,
   "id": "fff41064-54c1-42a2-a77b-981f60e6659c",
   "metadata": {},
   "outputs": [
    {
     "data": {
      "text/plain": [
       "['Day', 'Month']"
      ]
     },
     "execution_count": 26,
     "metadata": {},
     "output_type": "execute_result"
    }
   ],
   "source": [
    "cat_cols"
   ]
  },
  {
   "cell_type": "code",
   "execution_count": 27,
   "id": "78a04d4b-c7cb-4b3d-941d-b3c452fddcc6",
   "metadata": {},
   "outputs": [
    {
     "data": {
      "text/plain": [
       "['Temperature', 'Rainfall', 'Flyers', 'Price', 'Sales']"
      ]
     },
     "execution_count": 27,
     "metadata": {},
     "output_type": "execute_result"
    }
   ],
   "source": [
    "num_cols"
   ]
  },
  {
   "cell_type": "code",
   "execution_count": 22,
   "id": "8d22cd18-a0a6-419d-bb2b-b6ddaded25d2",
   "metadata": {},
   "outputs": [
    {
     "data": {
      "text/plain": [
       "True"
      ]
     },
     "execution_count": 22,
     "metadata": {},
     "output_type": "execute_result"
    }
   ],
   "source": [
    "df.Month.dtype == 'O'"
   ]
  },
  {
   "cell_type": "code",
   "execution_count": 28,
   "id": "5ffeb13d-61ea-4c9f-af2c-d8e14da7db65",
   "metadata": {},
   "outputs": [
    {
     "data": {
      "image/png": "[encoded data removed]",
      "text/plain": [
       "<Figure size 640x480 with 1 Axes>"
      ]
     },
     "metadata": {},
     "output_type": "display_data"
    },
    {
     "data": {
      "image/png": "[encoded data removed]",
      "text/plain": [
       "<Figure size 640x480 with 1 Axes>"
      ]
     },
     "metadata": {},
     "output_type": "display_data"
    },
    {
     "data": {
      "image/png": "[encoded data removed]",
      "text/plain": [
       "<Figure size 640x480 with 1 Axes>"
      ]
     },
     "metadata": {},
     "output_type": "display_data"
    },
    {
     "data": {
      "image/png": "[encoded data removed]",
      "text/plain": [
       "<Figure size 640x480 with 1 Axes>"
      ]
     },
     "metadata": {},
     "output_type": "display_data"
    },
    {
     "data": {
      "image/png": "[encoded data removed]",
      "text/plain": [
       "<Figure size 640x480 with 1 Axes>"
      ]
     },
     "metadata": {},
     "output_type": "display_data"
    }
   ],
   "source": [
    "# initial visual check:\n",
    "# histograms of numerical information\n",
    "for col in num_cols:\n",
    "    df[col].hist()\n",
    "    plt.title(f'Distribution of {col}')\n",
    "    plt.show()"
   ]
  },
  {
   "cell_type": "code",
   "execution_count": 30,
   "id": "5b4cf6a7-80da-44f4-baaa-2c9cd72009ac",
   "metadata": {},
   "outputs": [
    {
     "data": {
      "image/png": "[encoded data removed]",
      "text/plain": [
       "<Figure size 640x480 with 1 Axes>"
      ]
     },
     "metadata": {},
     "output_type": "display_data"
    },
    {
     "data": {
      "image/png": "[encoded data removed]",
      "text/plain": [
       "<Figure size 640x480 with 1 Axes>"
      ]
     },
     "metadata": {},
     "output_type": "display_data"
    },
    {
     "data": {
      "image/png": "[encoded data removed]",
      "text/plain": [
       "<Figure size 640x480 with 1 Axes>"
      ]
     },
     "metadata": {},
     "output_type": "display_data"
    },
    {
     "data": {
      "image/png": "[encoded data removed]",
      "text/plain": [
       "<Figure size 640x480 with 1 Axes>"
      ]
     },
     "metadata": {},
     "output_type": "display_data"
    },
    {
     "data": {
      "image/png": "[encoded data removed]",
      "text/plain": [
       "<Figure size 640x480 with 1 Axes>"
      ]
     },
     "metadata": {},
     "output_type": "display_data"
    }
   ],
   "source": [
    "for col in num_cols:\n",
    "    sns.boxplot(data=df, x=col)\n",
    "    plt.title(f'Distribution of {col}')\n",
    "    plt.show()"
   ]
  },
  {
   "cell_type": "markdown",
   "id": "6734917c-bbd2-4eec-814b-da47a97638b1",
   "metadata": {},
   "source": [
    "Cursory visualization assessment:\n",
    " - One day with extremely temperature\n",
    " - One day with negative flyers\n",
    " - Heavy rainfall day(s)?\n",
    " - Extremely high sale days"
   ]
  },
  {
   "cell_type": "code",
   "execution_count": 32,
   "id": "828c4306-b9db-45d7-b762-f940d919eb2e",
   "metadata": {},
   "outputs": [
    {
     "data": {
      "image/png": "[encoded data removed]",
      "text/plain": [
       "<Figure size 640x480 with 1 Axes>"
      ]
     },
     "metadata": {},
     "output_type": "display_data"
    }
   ],
   "source": [
    "# sales, based on day/month\n",
    "plt.scatter(df.Month, df.Sales)\n",
    "plt.title('Sales by Calendar Month')\n",
    "plt.xticks(rotation=90)\n",
    "plt.show()"
   ]
  },
  {
   "cell_type": "code",
   "execution_count": 33,
   "id": "d73a5ab6-b781-44d3-ac86-9427d01c8dbc",
   "metadata": {},
   "outputs": [
    {
     "data": {
      "image/png": "[encoded data removed]",
      "text/plain": [
       "<Figure size 640x480 with 1 Axes>"
      ]
     },
     "metadata": {},
     "output_type": "display_data"
    }
   ],
   "source": [
    "# what about rainfall\n",
    "plt.scatter(df.Month, df.Rainfall)\n",
    "plt.title('Rainfall by Month')\n",
    "plt.xticks(rotation=90)\n",
    "plt.show()"
   ]
  },
  {
   "cell_type": "markdown",
   "id": "a5c9aad4-a7d1-4fcd-8bdc-6fc8928ad2ca",
   "metadata": {},
   "source": [
    "Define a function named get_lower_and_upper_bounds that has two arguments. The first argument is a pandas Series. The second argument is the multiplier, which should have a default argument of 1.5."
   ]
  },
  {
   "cell_type": "code",
   "execution_count": 34,
   "id": "ca734151-d706-447b-b81c-68db9ad4a910",
   "metadata": {},
   "outputs": [],
   "source": [
    "def get_lower_and_upper_bounds(col, k=1.5):\n",
    "    '''\n",
    "    get_upper_and_lower_bounds will take in two arguments:\n",
    "    col, positional, a pandas Series\n",
    "    k, kwarg, the multiplier for the fence multiplied by the IQR\n",
    "    \n",
    "    returns: lower_fence, upper_fence, values representing\n",
    "    the respective lower and upper fence based on the Tukey method\n",
    "    as per the k multiplier specified\n",
    "    '''\n",
    "    q1, q3 = col.quantile(0.25), col.quantile(0.75)\n",
    "    iqr = q3 - q1\n",
    "    lower_fence = q1 - iqr*k\n",
    "    upper_fence = q3 + iqr*k\n",
    "    return lower_fence, upper_fence\n",
    "    \n",
    "    "
   ]
  },
  {
   "cell_type": "code",
   "execution_count": 35,
   "id": "930e4147-9db7-4e17-aa27-86737879ad92",
   "metadata": {},
   "outputs": [
    {
     "data": {
      "text/plain": [
       "(0.26, 1.3)"
      ]
     },
     "execution_count": 35,
     "metadata": {},
     "output_type": "execute_result"
    }
   ],
   "source": [
    "get_lower_and_upper_bounds(df['Rainfall'])"
   ]
  },
  {
   "cell_type": "markdown",
   "id": "142a9352-27cd-4bcc-8b1c-57628ca41b3a",
   "metadata": {},
   "source": [
    "Using lemonade.csv dataset and focusing on continuous variables:\n",
    "Use the IQR Range Rule and the upper and lower bounds to identify the lower and upper outliers of each column of lemonade.csv, using the multiplier of 1.5. Do these lower outliers make sense?Which outliers should be kept?\n",
    "\n",
    " Do that again, but with a k of 3"
   ]
  },
  {
   "cell_type": "code",
   "execution_count": 41,
   "id": "eb3bbbdf-6f02-4812-81c4-e6dc59ad2166",
   "metadata": {},
   "outputs": [
    {
     "name": "stdout",
     "output_type": "stream",
     "text": [
      " For column Temperature\n",
      "| Date                | Day      |   Temperature |   Rainfall |   Flyers |   Price |   Sales | Month    |\n",
      "|:--------------------|:---------|--------------:|-----------:|---------:|--------:|--------:|:---------|\n",
      "| 2017-02-11 00:00:00 | Saturday |         212   |       0.91 |       35 |     0.5 |      21 | February |\n",
      "| 2017-12-31 00:00:00 | Sunday   |          15.1 |       2.5  |        9 |     0.5 |       7 | December |\n",
      "===============\n",
      " For column Rainfall\n",
      "| Date                | Day       |   Temperature |   Rainfall |   Flyers |   Price |   Sales | Month    |\n",
      "|:--------------------|:----------|--------------:|-----------:|---------:|--------:|--------:|:---------|\n",
      "| 2017-01-01 00:00:00 | Sunday    |          27   |       2    |       15 |     0.5 |      10 | January  |\n",
      "| 2017-01-02 00:00:00 | Monday    |          28.9 |       1.33 |       15 |     0.5 |      13 | January  |\n",
      "| 2017-01-03 00:00:00 | Tuesday   |          34.5 |       1.33 |       27 |     0.5 |      15 | January  |\n",
      "| 2017-01-06 00:00:00 | Friday    |          25.3 |       1.54 |       23 |     0.5 |      11 | January  |\n",
      "| 2017-01-07 00:00:00 | Saturday  |          32.9 |       1.54 |       19 |     0.5 |      13 | January  |\n",
      "| 2017-01-11 00:00:00 | Wednesday |          32.6 |       1.54 |       23 |     0.5 |      12 | January  |\n",
      "| 2017-01-12 00:00:00 | Thursday  |          38.2 |       1.33 |       16 |     0.5 |      14 | January  |\n",
      "| 2017-01-13 00:00:00 | Friday    |          37.5 |       1.33 |       19 |     0.5 |      15 | January  |\n",
      "| 2017-01-16 00:00:00 | Monday    |          30.6 |       1.67 |       24 |     0.5 |      12 | January  |\n",
      "| 2017-01-17 00:00:00 | Tuesday   |          32.2 |       1.43 |       26 |     0.5 |      14 | January  |\n",
      "| 2017-01-20 00:00:00 | Friday    |          31.6 |       1.43 |       20 |     0.5 |      12 | January  |\n",
      "| 2017-01-24 00:00:00 | Tuesday   |          28.6 |       1.54 |       20 |     0.5 |      12 | January  |\n",
      "| 2017-01-28 00:00:00 | Saturday  |          34.9 |       1.33 |       15 |     0.5 |      13 | January  |\n",
      "| 2017-01-29 00:00:00 | Sunday    |          35.2 |       1.33 |       27 |     0.5 |      14 | January  |\n",
      "| 2017-12-04 00:00:00 | Monday    |          34.9 |       1.54 |       16 |     0.5 |      13 | December |\n",
      "| 2017-12-05 00:00:00 | Tuesday   |          22   |       1.82 |       11 |     0.5 |      10 | December |\n",
      "| 2017-12-09 00:00:00 | Saturday  |          31.2 |       1.43 |       19 |     0.5 |      14 | December |\n",
      "| 2017-12-10 00:00:00 | Sunday    |          31.3 |       1.82 |       15 |     0.5 |      11 | December |\n",
      "| 2017-12-12 00:00:00 | Tuesday   |          33.5 |       1.33 |       22 |     0.5 |      15 | December |\n",
      "| 2017-12-13 00:00:00 | Wednesday |          32.2 |       1.43 |       26 |     0.5 |      14 | December |\n",
      "| 2017-12-14 00:00:00 | Thursday  |          31.9 |       1.54 |       24 |     0.5 |      13 | December |\n",
      "| 2017-12-17 00:00:00 | Sunday    |          32.2 |       1.33 |       16 |     0.5 |      14 | December |\n",
      "| 2017-12-18 00:00:00 | Monday    |          30.9 |       1.43 |       27 |     0.5 |      13 | December |\n",
      "| 2017-12-21 00:00:00 | Thursday  |          40.5 |       1.33 |       23 |     0.5 |      15 | December |\n",
      "| 2017-12-22 00:00:00 | Friday    |          30.9 |       1.54 |       17 |     0.5 |      13 | December |\n",
      "| 2017-12-26 00:00:00 | Tuesday   |          28.9 |       1.43 |       23 |     0.5 |      13 | December |\n",
      "| 2017-12-30 00:00:00 | Saturday  |          30.9 |       1.43 |       22 |     0.5 |      13 | December |\n",
      "| 2017-12-31 00:00:00 | Sunday    |          15.1 |       2.5  |        9 |     0.5 |       7 | December |\n",
      "===============\n",
      " For column Flyers\n",
      "| Date                | Day     |   Temperature |   Rainfall |   Flyers |   Price |   Sales | Month    |\n",
      "|:--------------------|:--------|--------------:|-----------:|---------:|--------:|--------:|:---------|\n",
      "| 2017-06-16 00:00:00 | Friday  |          99.3 |       0.47 |       77 |     0.5 |      41 | June     |\n",
      "| 2017-07-14 00:00:00 | Friday  |          92   |       0.5  |       80 |     0.5 |      40 | July     |\n",
      "| 2017-11-21 00:00:00 | Tuesday |          47   |       0.95 |      -38 |     0.5 |      20 | November |\n",
      "===============\n",
      " For column Price\n",
      "| Date   | Day   | Temperature   | Rainfall   | Flyers   | Price   | Sales   | Month   |\n",
      "|--------|-------|---------------|------------|----------|---------|---------|---------|\n",
      "===============\n",
      " For column Sales\n",
      "| Date                | Day      |   Temperature |   Rainfall |   Flyers |   Price |   Sales | Month   |\n",
      "|:--------------------|:---------|--------------:|-----------:|---------:|--------:|--------:|:--------|\n",
      "| 2017-07-01 00:00:00 | Saturday |         102.9 |       0.47 |       59 |     0.5 |     143 | July    |\n",
      "| 2017-07-02 00:00:00 | Sunday   |          93.4 |       0.51 |       68 |     0.5 |     158 | July    |\n",
      "| 2017-07-03 00:00:00 | Monday   |          81.5 |       0.54 |       68 |     0.5 |     235 | July    |\n",
      "| 2017-07-04 00:00:00 | Tuesday  |          84.2 |       0.59 |       49 |     0.5 |     534 | July    |\n",
      "===============\n"
     ]
    }
   ],
   "source": [
    "# initialize an empty dictionary (to hold my outliers)\n",
    "outliers = {}\n",
    "# for every column (string literal) in my num cols:\n",
    "for col in num_cols:\n",
    "    #define a new place for my outlier fences to sit,\n",
    "    #based on the column name\n",
    "    # such as outliers['Rainfall'] = {}\n",
    "    outliers[col] = {}\n",
    "    #define my k\n",
    "    k = 1.5\n",
    "    # call my custom fence function, which returns two values\n",
    "    # put it in my dictionary under the column name, but also\n",
    "    # under the specific fence value\n",
    "    # outliers['Rainfall'][1.5] = (lower_val, upper_val)\n",
    "    outliers[col][k] = get_lower_and_upper_bounds(df[col], k=k)\n",
    "    print(f' For column {col}')\n",
    "    # print my dataframe, but only the rows that are below that \n",
    "    # lower fence, or above my upper fence\n",
    "    # take that set of rows, transpose them\n",
    "    # put it in markdown table format\n",
    "    # and print it\n",
    "    print(df[(df[col] < outliers[col][k][0]) | \n",
    "       (df[col] > outliers[col][k][1])].to_markdown())\n",
    "    print('===============')\n",
    "    \n",
    "    "
   ]
  },
  {
   "cell_type": "markdown",
   "id": "f151abf8-d73b-4192-ab48-1d4507c84389",
   "metadata": {},
   "source": [
    "Identify if any columns in lemonade.csv are normally distributed. For normally distributed columns:\n",
    "    Use a 2 sigma decision rule to isolate the outliers.\n",
    "        Do these make sense?\n",
    "        Should certain outliers be kept or removed?"
   ]
  },
  {
   "cell_type": "code",
   "execution_count": 38,
   "id": "f5514bcd-bc34-489f-aad3-b3e49b51eb21",
   "metadata": {},
   "outputs": [
    {
     "data": {
      "text/plain": [
       "{'Temperature': {1.5: (16.700000000000003, 104.7)},\n",
       " 'Rainfall': {1.5: (0.26, 1.3)},\n",
       " 'Flyers': {1.5: (4.0, 76.0)},\n",
       " 'Price': {1.5: (0.5, 0.5)},\n",
       " 'Sales': {1.5: (5.0, 45.0)}}"
      ]
     },
     "execution_count": 38,
     "metadata": {},
     "output_type": "execute_result"
    }
   ],
   "source": [
    "outliers"
   ]
  },
  {
   "cell_type": "code",
   "execution_count": 42,
   "id": "10e72778-03b4-4db2-96ef-999f1dc81a2c",
   "metadata": {},
   "outputs": [
    {
     "name": "stdout",
     "output_type": "stream",
     "text": [
      " For column Temperature\n",
      "| Date                | Day      |   Temperature |   Rainfall |   Flyers |   Price |   Sales | Month    |\n",
      "|:--------------------|:---------|--------------:|-----------:|---------:|--------:|--------:|:---------|\n",
      "| 2017-02-11 00:00:00 | Saturday |           212 |       0.91 |       35 |     0.5 |      21 | February |\n",
      "===============\n",
      " For column Rainfall\n",
      "| Date                | Day     |   Temperature |   Rainfall |   Flyers |   Price |   Sales | Month    |\n",
      "|:--------------------|:--------|--------------:|-----------:|---------:|--------:|--------:|:---------|\n",
      "| 2017-01-01 00:00:00 | Sunday  |          27   |       2    |       15 |     0.5 |      10 | January  |\n",
      "| 2017-12-05 00:00:00 | Tuesday |          22   |       1.82 |       11 |     0.5 |      10 | December |\n",
      "| 2017-12-10 00:00:00 | Sunday  |          31.3 |       1.82 |       15 |     0.5 |      11 | December |\n",
      "| 2017-12-31 00:00:00 | Sunday  |          15.1 |       2.5  |        9 |     0.5 |       7 | December |\n",
      "===============\n",
      " For column Flyers\n",
      "| Date                | Day     |   Temperature |   Rainfall |   Flyers |   Price |   Sales | Month    |\n",
      "|:--------------------|:--------|--------------:|-----------:|---------:|--------:|--------:|:---------|\n",
      "| 2017-11-21 00:00:00 | Tuesday |            47 |       0.95 |      -38 |     0.5 |      20 | November |\n",
      "===============\n",
      " For column Price\n",
      "| Date   | Day   | Temperature   | Rainfall   | Flyers   | Price   | Sales   | Month   |\n",
      "|--------|-------|---------------|------------|----------|---------|---------|---------|\n",
      "===============\n",
      " For column Sales\n",
      "| Date                | Day      |   Temperature |   Rainfall |   Flyers |   Price |   Sales | Month   |\n",
      "|:--------------------|:---------|--------------:|-----------:|---------:|--------:|--------:|:--------|\n",
      "| 2017-07-01 00:00:00 | Saturday |         102.9 |       0.47 |       59 |     0.5 |     143 | July    |\n",
      "| 2017-07-02 00:00:00 | Sunday   |          93.4 |       0.51 |       68 |     0.5 |     158 | July    |\n",
      "| 2017-07-03 00:00:00 | Monday   |          81.5 |       0.54 |       68 |     0.5 |     235 | July    |\n",
      "| 2017-07-04 00:00:00 | Tuesday  |          84.2 |       0.59 |       49 |     0.5 |     534 | July    |\n",
      "===============\n"
     ]
    }
   ],
   "source": [
    "# initialize an empty dictionary (to hold my outliers)\n",
    "# for every column (string literal) in my num cols:\n",
    "for col in num_cols:\n",
    "    #define a new place for my outlier fences to sit,\n",
    "    #based on the column name\n",
    "    #define my k\n",
    "    k = 3\n",
    "    # call my custom fence function, which returns two values\n",
    "    # put it in my dictionary under the column name, but also\n",
    "    # under the specific fence value\n",
    "    # outliers['Rainfall'][1.5] = (lower_val, upper_val)\n",
    "    outliers[col][k] = get_lower_and_upper_bounds(df[col], k=k)\n",
    "    print(f' For column {col}')\n",
    "    # print my dataframe, but only the rows that are below that \n",
    "    # lower fence, or above my upper fence\n",
    "    # take that set of rows, transpose them\n",
    "    # put it in markdown table format\n",
    "    # and print it\n",
    "    print(df[(df[col] < outliers[col][k][0]) | \n",
    "       (df[col] > outliers[col][k][1])].to_markdown())\n",
    "    print('===============')"
   ]
  },
  {
   "cell_type": "code",
   "execution_count": 45,
   "id": "044efd99-219c-4c83-928d-9ac618e72fc8",
   "metadata": {},
   "outputs": [
    {
     "data": {
      "text/plain": [
       "(-16.299999999999997, 137.7)"
      ]
     },
     "execution_count": 45,
     "metadata": {},
     "output_type": "execute_result"
    }
   ],
   "source": [
    "outliers['Temperature'][3]"
   ]
  },
  {
   "cell_type": "markdown",
   "id": "da558493-a1a6-4aab-8d6d-6df7e4773297",
   "metadata": {},
   "source": [
    "Now use a 3 sigma decision rule to isolate the outliers in the normally distributed columns from lemonade.csv"
   ]
  },
  {
   "cell_type": "code",
   "execution_count": 48,
   "id": "16d9ab60-ecb6-431b-86bc-4ddbeea54666",
   "metadata": {},
   "outputs": [
    {
     "data": {
      "text/plain": [
       "'Sales'"
      ]
     },
     "execution_count": 48,
     "metadata": {},
     "output_type": "execute_result"
    }
   ],
   "source": [
    "col"
   ]
  },
  {
   "cell_type": "code",
   "execution_count": 59,
   "id": "786944ff-df26-4c45-8655-1f8cbfb289e1",
   "metadata": {},
   "outputs": [
    {
     "data": {
      "text/html": [
       "<div>\n",
       "<style scoped>\n",
       "    .dataframe tbody tr th:only-of-type {\n",
       "        vertical-align: middle;\n",
       "    }\n",
       "\n",
       "    .dataframe tbody tr th {\n",
       "        vertical-align: top;\n",
       "    }\n",
       "\n",
       "    .dataframe thead th {\n",
       "        text-align: right;\n",
       "    }\n",
       "</style>\n",
       "<table border=\"1\" class=\"dataframe\">\n",
       "  <thead>\n",
       "    <tr style=\"text-align: right;\">\n",
       "      <th></th>\n",
       "      <th>Day</th>\n",
       "      <th>Temperature</th>\n",
       "      <th>Rainfall</th>\n",
       "      <th>Flyers</th>\n",
       "      <th>Price</th>\n",
       "      <th>Sales</th>\n",
       "      <th>Month</th>\n",
       "    </tr>\n",
       "    <tr>\n",
       "      <th>Date</th>\n",
       "      <th></th>\n",
       "      <th></th>\n",
       "      <th></th>\n",
       "      <th></th>\n",
       "      <th></th>\n",
       "      <th></th>\n",
       "      <th></th>\n",
       "    </tr>\n",
       "  </thead>\n",
       "  <tbody>\n",
       "    <tr>\n",
       "      <th>2017-11-21</th>\n",
       "      <td>Tuesday</td>\n",
       "      <td>47.0</td>\n",
       "      <td>0.95</td>\n",
       "      <td>-38</td>\n",
       "      <td>0.5</td>\n",
       "      <td>20</td>\n",
       "      <td>November</td>\n",
       "    </tr>\n",
       "  </tbody>\n",
       "</table>\n",
       "</div>"
      ],
      "text/plain": [
       "                Day  Temperature  Rainfall  Flyers  Price  Sales     Month\n",
       "Date                                                                      \n",
       "2017-11-21  Tuesday         47.0      0.95     -38    0.5     20  November"
      ]
     },
     "execution_count": 59,
     "metadata": {},
     "output_type": "execute_result"
    }
   ],
   "source": [
    "# remember order of operations!\n",
    "# (we need to encapsulate our numerator)\n",
    "df[((df['Flyers'] - df['Flyers'].mean()) / df['Flyers'].std()).abs() > 3]"
   ]
  },
  {
   "cell_type": "code",
   "execution_count": 63,
   "id": "c77be81d-cd17-4a01-9712-cde0075c6f0b",
   "metadata": {},
   "outputs": [
    {
     "name": "stdout",
     "output_type": "stream",
     "text": [
      " For Column Temperature\n",
      "| Date                | Day      |   Temperature |   Rainfall |   Flyers |   Price |   Sales | Month    |\n",
      "|:--------------------|:---------|--------------:|-----------:|---------:|--------:|--------:|:---------|\n",
      "| 2017-02-11 00:00:00 | Saturday |         212   |       0.91 |       35 |     0.5 |      21 | February |\n",
      "| 2017-06-16 00:00:00 | Friday   |          99.3 |       0.47 |       77 |     0.5 |      41 | June     |\n",
      "| 2017-06-26 00:00:00 | Monday   |         102.6 |       0.47 |       60 |     0.5 |      42 | June     |\n",
      "| 2017-07-01 00:00:00 | Saturday |         102.9 |       0.47 |       59 |     0.5 |     143 | July     |\n",
      "| 2017-07-10 00:00:00 | Monday   |          98   |       0.49 |       66 |     0.5 |      40 | July     |\n",
      "| 2017-07-18 00:00:00 | Tuesday  |          99.3 |       0.47 |       76 |     0.5 |      41 | July     |\n",
      "| 2017-07-22 00:00:00 | Saturday |          99.6 |       0.47 |       49 |     0.5 |      42 | July     |\n",
      "| 2017-07-27 00:00:00 | Thursday |          97.9 |       0.47 |       74 |     0.5 |      43 | July     |\n",
      "| 2017-12-05 00:00:00 | Tuesday  |          22   |       1.82 |       11 |     0.5 |      10 | December |\n",
      "| 2017-12-31 00:00:00 | Sunday   |          15.1 |       2.5  |        9 |     0.5 |       7 | December |\n",
      " For Column Rainfall\n",
      "| Date                | Day       |   Temperature |   Rainfall |   Flyers |   Price |   Sales | Month    |\n",
      "|:--------------------|:----------|--------------:|-----------:|---------:|--------:|--------:|:---------|\n",
      "| 2017-01-01 00:00:00 | Sunday    |          27   |       2    |       15 |     0.5 |      10 | January  |\n",
      "| 2017-01-06 00:00:00 | Friday    |          25.3 |       1.54 |       23 |     0.5 |      11 | January  |\n",
      "| 2017-01-07 00:00:00 | Saturday  |          32.9 |       1.54 |       19 |     0.5 |      13 | January  |\n",
      "| 2017-01-11 00:00:00 | Wednesday |          32.6 |       1.54 |       23 |     0.5 |      12 | January  |\n",
      "| 2017-01-16 00:00:00 | Monday    |          30.6 |       1.67 |       24 |     0.5 |      12 | January  |\n",
      "| 2017-01-17 00:00:00 | Tuesday   |          32.2 |       1.43 |       26 |     0.5 |      14 | January  |\n",
      "| 2017-01-20 00:00:00 | Friday    |          31.6 |       1.43 |       20 |     0.5 |      12 | January  |\n",
      "| 2017-01-24 00:00:00 | Tuesday   |          28.6 |       1.54 |       20 |     0.5 |      12 | January  |\n",
      "| 2017-12-04 00:00:00 | Monday    |          34.9 |       1.54 |       16 |     0.5 |      13 | December |\n",
      "| 2017-12-05 00:00:00 | Tuesday   |          22   |       1.82 |       11 |     0.5 |      10 | December |\n",
      "| 2017-12-09 00:00:00 | Saturday  |          31.2 |       1.43 |       19 |     0.5 |      14 | December |\n",
      "| 2017-12-10 00:00:00 | Sunday    |          31.3 |       1.82 |       15 |     0.5 |      11 | December |\n",
      "| 2017-12-13 00:00:00 | Wednesday |          32.2 |       1.43 |       26 |     0.5 |      14 | December |\n",
      "| 2017-12-14 00:00:00 | Thursday  |          31.9 |       1.54 |       24 |     0.5 |      13 | December |\n",
      "| 2017-12-18 00:00:00 | Monday    |          30.9 |       1.43 |       27 |     0.5 |      13 | December |\n",
      "| 2017-12-22 00:00:00 | Friday    |          30.9 |       1.54 |       17 |     0.5 |      13 | December |\n",
      "| 2017-12-26 00:00:00 | Tuesday   |          28.9 |       1.43 |       23 |     0.5 |      13 | December |\n",
      "| 2017-12-30 00:00:00 | Saturday  |          30.9 |       1.43 |       22 |     0.5 |      13 | December |\n",
      "| 2017-12-31 00:00:00 | Sunday    |          15.1 |       2.5  |        9 |     0.5 |       7 | December |\n",
      " For Column Flyers\n",
      "| Date                | Day       |   Temperature |   Rainfall |   Flyers |   Price |   Sales | Month    |\n",
      "|:--------------------|:----------|--------------:|-----------:|---------:|--------:|--------:|:---------|\n",
      "| 2017-06-16 00:00:00 | Friday    |          99.3 |       0.47 |       77 |     0.5 |      41 | June     |\n",
      "| 2017-06-20 00:00:00 | Tuesday   |          85.1 |       0.54 |       70 |     0.5 |      37 | June     |\n",
      "| 2017-06-21 00:00:00 | Wednesday |          94.3 |       0.47 |       76 |     0.5 |      41 | June     |\n",
      "| 2017-07-02 00:00:00 | Sunday    |          93.4 |       0.51 |       68 |     0.5 |     158 | July     |\n",
      "| 2017-07-03 00:00:00 | Monday    |          81.5 |       0.54 |       68 |     0.5 |     235 | July     |\n",
      "| 2017-07-14 00:00:00 | Friday    |          92   |       0.5  |       80 |     0.5 |      40 | July     |\n",
      "| 2017-07-18 00:00:00 | Tuesday   |          99.3 |       0.47 |       76 |     0.5 |      41 | July     |\n",
      "| 2017-07-23 00:00:00 | Sunday    |          89.1 |       0.51 |       72 |     0.5 |      37 | July     |\n",
      "| 2017-07-24 00:00:00 | Monday    |          83.5 |       0.57 |       69 |     0.5 |      35 | July     |\n",
      "| 2017-07-27 00:00:00 | Thursday  |          97.9 |       0.47 |       74 |     0.5 |      43 | July     |\n",
      "| 2017-11-21 00:00:00 | Tuesday   |          47   |       0.95 |      -38 |     0.5 |      20 | November |\n",
      "| 2017-12-05 00:00:00 | Tuesday   |          22   |       1.82 |       11 |     0.5 |      10 | December |\n",
      "| 2017-12-31 00:00:00 | Sunday    |          15.1 |       2.5  |        9 |     0.5 |       7 | December |\n",
      " For Column Price\n",
      "| Date   | Day   | Temperature   | Rainfall   | Flyers   | Price   | Sales   | Month   |\n",
      "|--------|-------|---------------|------------|----------|---------|---------|---------|\n",
      " For Column Sales\n",
      "| Date                | Day      |   Temperature |   Rainfall |   Flyers |   Price |   Sales | Month   |\n",
      "|:--------------------|:---------|--------------:|-----------:|---------:|--------:|--------:|:--------|\n",
      "| 2017-07-01 00:00:00 | Saturday |         102.9 |       0.47 |       59 |     0.5 |     143 | July    |\n",
      "| 2017-07-02 00:00:00 | Sunday   |          93.4 |       0.51 |       68 |     0.5 |     158 | July    |\n",
      "| 2017-07-03 00:00:00 | Monday   |          81.5 |       0.54 |       68 |     0.5 |     235 | July    |\n",
      "| 2017-07-04 00:00:00 | Tuesday  |          84.2 |       0.59 |       49 |     0.5 |     534 | July    |\n"
     ]
    }
   ],
   "source": [
    "for col in num_cols:\n",
    "    print(f' For Column {col}')\n",
    "    print(df[((df[col] - df[col].mean()) / df[col].std()).abs() > 2].to_markdown())"
   ]
  },
  {
   "cell_type": "markdown",
   "id": "d3b0f85e-aaeb-49ae-b472-ebb8d86986ab",
   "metadata": {},
   "source": [
    "Takeaways: \n",
    " - temperature to high to live in, we can fix that probably\n",
    " - Negative flyer value\n",
    " - rainfall?\n",
    " - sales seem appropriate for summer"
   ]
  },
  {
   "cell_type": "code",
   "execution_count": 65,
   "id": "5c8784f3-3047-4f08-bc56-29e63c1fbdc7",
   "metadata": {},
   "outputs": [
    {
     "data": {
      "text/html": [
       "<div>\n",
       "<style scoped>\n",
       "    .dataframe tbody tr th:only-of-type {\n",
       "        vertical-align: middle;\n",
       "    }\n",
       "\n",
       "    .dataframe tbody tr th {\n",
       "        vertical-align: top;\n",
       "    }\n",
       "\n",
       "    .dataframe thead th {\n",
       "        text-align: right;\n",
       "    }\n",
       "</style>\n",
       "<table border=\"1\" class=\"dataframe\">\n",
       "  <thead>\n",
       "    <tr style=\"text-align: right;\">\n",
       "      <th></th>\n",
       "      <th>Day</th>\n",
       "      <th>Temperature</th>\n",
       "      <th>Rainfall</th>\n",
       "      <th>Flyers</th>\n",
       "      <th>Price</th>\n",
       "      <th>Sales</th>\n",
       "      <th>Month</th>\n",
       "    </tr>\n",
       "    <tr>\n",
       "      <th>Date</th>\n",
       "      <th></th>\n",
       "      <th></th>\n",
       "      <th></th>\n",
       "      <th></th>\n",
       "      <th></th>\n",
       "      <th></th>\n",
       "      <th></th>\n",
       "    </tr>\n",
       "  </thead>\n",
       "  <tbody>\n",
       "    <tr>\n",
       "      <th>2017-06-30</th>\n",
       "      <td>Friday</td>\n",
       "      <td>89.4</td>\n",
       "      <td>0.53</td>\n",
       "      <td>47</td>\n",
       "      <td>0.5</td>\n",
       "      <td>38</td>\n",
       "      <td>June</td>\n",
       "    </tr>\n",
       "    <tr>\n",
       "      <th>2017-07-01</th>\n",
       "      <td>Saturday</td>\n",
       "      <td>102.9</td>\n",
       "      <td>0.47</td>\n",
       "      <td>59</td>\n",
       "      <td>0.5</td>\n",
       "      <td>143</td>\n",
       "      <td>July</td>\n",
       "    </tr>\n",
       "    <tr>\n",
       "      <th>2017-07-02</th>\n",
       "      <td>Sunday</td>\n",
       "      <td>93.4</td>\n",
       "      <td>0.51</td>\n",
       "      <td>68</td>\n",
       "      <td>0.5</td>\n",
       "      <td>158</td>\n",
       "      <td>July</td>\n",
       "    </tr>\n",
       "    <tr>\n",
       "      <th>2017-07-03</th>\n",
       "      <td>Monday</td>\n",
       "      <td>81.5</td>\n",
       "      <td>0.54</td>\n",
       "      <td>68</td>\n",
       "      <td>0.5</td>\n",
       "      <td>235</td>\n",
       "      <td>July</td>\n",
       "    </tr>\n",
       "    <tr>\n",
       "      <th>2017-07-04</th>\n",
       "      <td>Tuesday</td>\n",
       "      <td>84.2</td>\n",
       "      <td>0.59</td>\n",
       "      <td>49</td>\n",
       "      <td>0.5</td>\n",
       "      <td>534</td>\n",
       "      <td>July</td>\n",
       "    </tr>\n",
       "    <tr>\n",
       "      <th>2017-07-05</th>\n",
       "      <td>Wednesday</td>\n",
       "      <td>93.0</td>\n",
       "      <td>0.40</td>\n",
       "      <td>55</td>\n",
       "      <td>0.5</td>\n",
       "      <td>40</td>\n",
       "      <td>July</td>\n",
       "    </tr>\n",
       "  </tbody>\n",
       "</table>\n",
       "</div>"
      ],
      "text/plain": [
       "                  Day  Temperature  Rainfall  Flyers  Price  Sales Month\n",
       "Date                                                                    \n",
       "2017-06-30     Friday         89.4      0.53      47    0.5     38  June\n",
       "2017-07-01   Saturday        102.9      0.47      59    0.5    143  July\n",
       "2017-07-02     Sunday         93.4      0.51      68    0.5    158  July\n",
       "2017-07-03     Monday         81.5      0.54      68    0.5    235  July\n",
       "2017-07-04    Tuesday         84.2      0.59      49    0.5    534  July\n",
       "2017-07-05  Wednesday         93.0      0.40      55    0.5     40  July"
      ]
     },
     "execution_count": 65,
     "metadata": {},
     "output_type": "execute_result"
    }
   ],
   "source": [
    "# Sales Check\n",
    "df.loc['2017-06-30': '2017-07-05']"
   ]
  },
  {
   "cell_type": "code",
   "execution_count": 69,
   "id": "5d0a96ce-b6d9-4bf2-ae7c-0bf3e0c17a64",
   "metadata": {},
   "outputs": [
    {
     "data": {
      "text/plain": [
       "Date\n",
       "2017-01-01    2.00\n",
       "2017-01-02    1.33\n",
       "2017-01-03    1.33\n",
       "2017-01-04    1.05\n",
       "2017-01-05    1.00\n",
       "2017-01-06    1.54\n",
       "2017-01-07    1.54\n",
       "2017-01-08    1.18\n",
       "2017-01-09    1.18\n",
       "2017-01-10    1.05\n",
       "2017-01-11    1.54\n",
       "2017-01-12    1.33\n",
       "2017-01-13    1.33\n",
       "2017-01-14    1.05\n",
       "2017-01-15    1.11\n",
       "2017-01-16    1.67\n",
       "2017-01-17    1.43\n",
       "2017-01-18    1.18\n",
       "2017-01-19    1.18\n",
       "2017-01-20    1.43\n",
       "2017-01-21    1.25\n",
       "2017-01-22    1.11\n",
       "2017-01-23    1.05\n",
       "2017-01-24    1.54\n",
       "2017-01-25    1.25\n",
       "2017-01-26    1.25\n",
       "2017-01-27    1.05\n",
       "2017-01-28    1.33\n",
       "2017-01-29    1.33\n",
       "2017-01-30    1.05\n",
       "2017-01-31    1.05\n",
       "Name: Rainfall, dtype: float64"
      ]
     },
     "execution_count": 69,
     "metadata": {},
     "output_type": "execute_result"
    }
   ],
   "source": [
    "# Rainfall check:\n",
    "df.loc['2017-12']['Rainfall']\n",
    "df.loc['2017-01']['Rainfall']"
   ]
  },
  {
   "cell_type": "code",
   "execution_count": 70,
   "id": "58efed5f-dde9-4f07-88c5-d4c423f808d7",
   "metadata": {},
   "outputs": [],
   "source": [
    "# seems like we sold a lot of lemonade around July 4, \n",
    "# and we have a lot of rain in the winter\n",
    "# I'm going to call these results valid and consider them in further analysis"
   ]
  },
  {
   "cell_type": "code",
   "execution_count": null,
   "id": "2e06fa99-5720-408b-93fb-36eaddc3a592",
   "metadata": {},
   "outputs": [],
   "source": [
    "# temp and flyers\n",
    "# weird temp day: 2017-02-11\n",
    "# weird flyer day: 2017-11-21"
   ]
  },
  {
   "cell_type": "code",
   "execution_count": 72,
   "id": "cdb06068-4593-4e5c-ba2a-697ec58e160c",
   "metadata": {},
   "outputs": [
    {
     "data": {
      "text/html": [
       "<div>\n",
       "<style scoped>\n",
       "    .dataframe tbody tr th:only-of-type {\n",
       "        vertical-align: middle;\n",
       "    }\n",
       "\n",
       "    .dataframe tbody tr th {\n",
       "        vertical-align: top;\n",
       "    }\n",
       "\n",
       "    .dataframe thead th {\n",
       "        text-align: right;\n",
       "    }\n",
       "</style>\n",
       "<table border=\"1\" class=\"dataframe\">\n",
       "  <thead>\n",
       "    <tr style=\"text-align: right;\">\n",
       "      <th></th>\n",
       "      <th>Day</th>\n",
       "      <th>Temperature</th>\n",
       "      <th>Rainfall</th>\n",
       "      <th>Flyers</th>\n",
       "      <th>Price</th>\n",
       "      <th>Sales</th>\n",
       "      <th>Month</th>\n",
       "    </tr>\n",
       "    <tr>\n",
       "      <th>Date</th>\n",
       "      <th></th>\n",
       "      <th></th>\n",
       "      <th></th>\n",
       "      <th></th>\n",
       "      <th></th>\n",
       "      <th></th>\n",
       "      <th></th>\n",
       "    </tr>\n",
       "  </thead>\n",
       "  <tbody>\n",
       "    <tr>\n",
       "      <th>2017-02-08</th>\n",
       "      <td>Wednesday</td>\n",
       "      <td>52.6</td>\n",
       "      <td>0.87</td>\n",
       "      <td>31</td>\n",
       "      <td>0.5</td>\n",
       "      <td>22</td>\n",
       "      <td>February</td>\n",
       "    </tr>\n",
       "    <tr>\n",
       "      <th>2017-02-09</th>\n",
       "      <td>Thursday</td>\n",
       "      <td>42.7</td>\n",
       "      <td>1.00</td>\n",
       "      <td>39</td>\n",
       "      <td>0.5</td>\n",
       "      <td>19</td>\n",
       "      <td>February</td>\n",
       "    </tr>\n",
       "    <tr>\n",
       "      <th>2017-02-10</th>\n",
       "      <td>Friday</td>\n",
       "      <td>50.0</td>\n",
       "      <td>0.91</td>\n",
       "      <td>40</td>\n",
       "      <td>0.5</td>\n",
       "      <td>20</td>\n",
       "      <td>February</td>\n",
       "    </tr>\n",
       "    <tr>\n",
       "      <th>2017-02-11</th>\n",
       "      <td>Saturday</td>\n",
       "      <td>212.0</td>\n",
       "      <td>0.91</td>\n",
       "      <td>35</td>\n",
       "      <td>0.5</td>\n",
       "      <td>21</td>\n",
       "      <td>February</td>\n",
       "    </tr>\n",
       "    <tr>\n",
       "      <th>2017-02-12</th>\n",
       "      <td>Sunday</td>\n",
       "      <td>55.6</td>\n",
       "      <td>0.83</td>\n",
       "      <td>41</td>\n",
       "      <td>0.5</td>\n",
       "      <td>22</td>\n",
       "      <td>February</td>\n",
       "    </tr>\n",
       "    <tr>\n",
       "      <th>2017-02-13</th>\n",
       "      <td>Monday</td>\n",
       "      <td>46.4</td>\n",
       "      <td>1.11</td>\n",
       "      <td>34</td>\n",
       "      <td>0.5</td>\n",
       "      <td>18</td>\n",
       "      <td>February</td>\n",
       "    </tr>\n",
       "  </tbody>\n",
       "</table>\n",
       "</div>"
      ],
      "text/plain": [
       "                  Day  Temperature  Rainfall  Flyers  Price  Sales     Month\n",
       "Date                                                                        \n",
       "2017-02-08  Wednesday         52.6      0.87      31    0.5     22  February\n",
       "2017-02-09   Thursday         42.7      1.00      39    0.5     19  February\n",
       "2017-02-10     Friday         50.0      0.91      40    0.5     20  February\n",
       "2017-02-11   Saturday        212.0      0.91      35    0.5     21  February\n",
       "2017-02-12     Sunday         55.6      0.83      41    0.5     22  February\n",
       "2017-02-13     Monday         46.4      1.11      34    0.5     18  February"
      ]
     },
     "execution_count": 72,
     "metadata": {},
     "output_type": "execute_result"
    }
   ],
   "source": [
    "# let's look at the temp around 2-11:\n",
    "df.loc['2017-02-08':'2017-02-13']"
   ]
  },
  {
   "cell_type": "code",
   "execution_count": 74,
   "id": "77b37763-62ef-4f72-8e0f-3f4a2e5d7b52",
   "metadata": {},
   "outputs": [
    {
     "data": {
      "text/plain": [
       "61.224657534246575"
      ]
     },
     "execution_count": 74,
     "metadata": {},
     "output_type": "execute_result"
    }
   ],
   "source": [
    "df.Temperature.mean()"
   ]
  },
  {
   "cell_type": "code",
   "execution_count": 76,
   "id": "4e7539a5-b969-4749-b521-adee8e5ff4bb",
   "metadata": {},
   "outputs": [
    {
     "data": {
      "text/plain": [
       "53.67142857142857"
      ]
     },
     "execution_count": 76,
     "metadata": {},
     "output_type": "execute_result"
    }
   ],
   "source": [
    "df.groupby('Month').Temperature.mean()['February']"
   ]
  },
  {
   "cell_type": "code",
   "execution_count": 78,
   "id": "5eaf0881-85ee-4df0-ba2e-3a6673206ab2",
   "metadata": {},
   "outputs": [
    {
     "data": {
      "text/plain": [
       "52.8"
      ]
     },
     "execution_count": 78,
     "metadata": {},
     "output_type": "execute_result"
    }
   ],
   "source": [
    "(df.loc['2017-02-10','Temperature'] + df.loc['2017-02-12','Temperature']) / 2"
   ]
  },
  {
   "cell_type": "code",
   "execution_count": 79,
   "id": "e622c22e-70cd-45fd-8599-1a10bc415d83",
   "metadata": {},
   "outputs": [],
   "source": [
    "df.loc['2017-02-11', 'Temperature'] = df.groupby('Month').Temperature.mean()['February']"
   ]
  },
  {
   "cell_type": "code",
   "execution_count": 80,
   "id": "b663a892-9499-4c86-8039-0a21bd8f824b",
   "metadata": {},
   "outputs": [
    {
     "data": {
      "text/html": [
       "<div>\n",
       "<style scoped>\n",
       "    .dataframe tbody tr th:only-of-type {\n",
       "        vertical-align: middle;\n",
       "    }\n",
       "\n",
       "    .dataframe tbody tr th {\n",
       "        vertical-align: top;\n",
       "    }\n",
       "\n",
       "    .dataframe thead th {\n",
       "        text-align: right;\n",
       "    }\n",
       "</style>\n",
       "<table border=\"1\" class=\"dataframe\">\n",
       "  <thead>\n",
       "    <tr style=\"text-align: right;\">\n",
       "      <th></th>\n",
       "      <th>Day</th>\n",
       "      <th>Temperature</th>\n",
       "      <th>Rainfall</th>\n",
       "      <th>Flyers</th>\n",
       "      <th>Price</th>\n",
       "      <th>Sales</th>\n",
       "      <th>Month</th>\n",
       "    </tr>\n",
       "    <tr>\n",
       "      <th>Date</th>\n",
       "      <th></th>\n",
       "      <th></th>\n",
       "      <th></th>\n",
       "      <th></th>\n",
       "      <th></th>\n",
       "      <th></th>\n",
       "      <th></th>\n",
       "    </tr>\n",
       "  </thead>\n",
       "  <tbody>\n",
       "    <tr>\n",
       "      <th>2017-02-08</th>\n",
       "      <td>Wednesday</td>\n",
       "      <td>52.600000</td>\n",
       "      <td>0.87</td>\n",
       "      <td>31</td>\n",
       "      <td>0.5</td>\n",
       "      <td>22</td>\n",
       "      <td>February</td>\n",
       "    </tr>\n",
       "    <tr>\n",
       "      <th>2017-02-09</th>\n",
       "      <td>Thursday</td>\n",
       "      <td>42.700000</td>\n",
       "      <td>1.00</td>\n",
       "      <td>39</td>\n",
       "      <td>0.5</td>\n",
       "      <td>19</td>\n",
       "      <td>February</td>\n",
       "    </tr>\n",
       "    <tr>\n",
       "      <th>2017-02-10</th>\n",
       "      <td>Friday</td>\n",
       "      <td>50.000000</td>\n",
       "      <td>0.91</td>\n",
       "      <td>40</td>\n",
       "      <td>0.5</td>\n",
       "      <td>20</td>\n",
       "      <td>February</td>\n",
       "    </tr>\n",
       "    <tr>\n",
       "      <th>2017-02-11</th>\n",
       "      <td>Saturday</td>\n",
       "      <td>53.671429</td>\n",
       "      <td>0.91</td>\n",
       "      <td>35</td>\n",
       "      <td>0.5</td>\n",
       "      <td>21</td>\n",
       "      <td>February</td>\n",
       "    </tr>\n",
       "    <tr>\n",
       "      <th>2017-02-12</th>\n",
       "      <td>Sunday</td>\n",
       "      <td>55.600000</td>\n",
       "      <td>0.83</td>\n",
       "      <td>41</td>\n",
       "      <td>0.5</td>\n",
       "      <td>22</td>\n",
       "      <td>February</td>\n",
       "    </tr>\n",
       "    <tr>\n",
       "      <th>2017-02-13</th>\n",
       "      <td>Monday</td>\n",
       "      <td>46.400000</td>\n",
       "      <td>1.11</td>\n",
       "      <td>34</td>\n",
       "      <td>0.5</td>\n",
       "      <td>18</td>\n",
       "      <td>February</td>\n",
       "    </tr>\n",
       "  </tbody>\n",
       "</table>\n",
       "</div>"
      ],
      "text/plain": [
       "                  Day  Temperature  Rainfall  Flyers  Price  Sales     Month\n",
       "Date                                                                        \n",
       "2017-02-08  Wednesday    52.600000      0.87      31    0.5     22  February\n",
       "2017-02-09   Thursday    42.700000      1.00      39    0.5     19  February\n",
       "2017-02-10     Friday    50.000000      0.91      40    0.5     20  February\n",
       "2017-02-11   Saturday    53.671429      0.91      35    0.5     21  February\n",
       "2017-02-12     Sunday    55.600000      0.83      41    0.5     22  February\n",
       "2017-02-13     Monday    46.400000      1.11      34    0.5     18  February"
      ]
     },
     "execution_count": 80,
     "metadata": {},
     "output_type": "execute_result"
    }
   ],
   "source": [
    "df.loc['2017-02-08':'2017-02-13']"
   ]
  },
  {
   "cell_type": "code",
   "execution_count": 81,
   "id": "66547ad7-ca6a-4f14-b5ad-7182cbcf4ccb",
   "metadata": {},
   "outputs": [
    {
     "data": {
      "text/plain": [
       "Date\n",
       "2017-11-19    34\n",
       "2017-11-20    41\n",
       "2017-11-21   -38\n",
       "2017-11-22    40\n",
       "Name: Flyers, dtype: int64"
      ]
     },
     "execution_count": 81,
     "metadata": {},
     "output_type": "execute_result"
    }
   ],
   "source": [
    "df.loc['2017-11-19':'2017-11-22']['Flyers']"
   ]
  },
  {
   "cell_type": "code",
   "execution_count": 85,
   "id": "176483cb-12d8-4b7a-87ed-01db3479c4d0",
   "metadata": {},
   "outputs": [],
   "source": [
    "df.loc['2017-11-21','Flyers'] = -1 * df.loc['2017-11-21','Flyers']"
   ]
  },
  {
   "cell_type": "code",
   "execution_count": 86,
   "id": "a1149a3c-151e-4e6a-ab52-3424d271393a",
   "metadata": {},
   "outputs": [
    {
     "data": {
      "text/plain": [
       "Date\n",
       "2017-11-19    34\n",
       "2017-11-20    41\n",
       "2017-11-21    38\n",
       "2017-11-22    40\n",
       "Name: Flyers, dtype: int64"
      ]
     },
     "execution_count": 86,
     "metadata": {},
     "output_type": "execute_result"
    }
   ],
   "source": [
    "df.loc['2017-11-19':'2017-11-22']['Flyers']"
   ]
  },
  {
   "cell_type": "markdown",
   "id": "58b53348-a2e8-45d3-bcad-d374b05e0ca3",
   "metadata": {},
   "source": [
    "Notes on process:\n",
    " - we examined a few weird values and took the procedural steps of visualiztions, IQR methodology and z score and scrutinized these data points by taking further analysis of context based on the time/days/rows around them\n",
    " \n",
    " - We concluded based on the level of info that we have, that rainfall and sales anomalies are likely valid\n",
    " - We concluded an erroneous flyer value was input negative and fixed it\n",
    " - we concluded an erroneous temp value was just wrong, so we guessed it based on aggregate imputation"
   ]
  },
  {
   "cell_type": "code",
   "execution_count": null,
   "id": "00dc20bd-dd37-4a9d-b63a-16c5b7634769",
   "metadata": {},
   "outputs": [],
   "source": []
  }
 ],
 "metadata": {
  "kernelspec": {
   "display_name": "Python 3 (ipykernel)",
   "language": "python",
   "name": "python3"
  },
  "language_info": {
   "codemirror_mode": {
    "name": "ipython",
    "version": 3
   },
   "file_extension": ".py",
   "mimetype": "text/x-python",
   "name": "python",
   "nbconvert_exporter": "python",
   "pygments_lexer": "ipython3",
   "version": "3.11.2"
  }
 },
 "nbformat": 4,
 "nbformat_minor": 5
}